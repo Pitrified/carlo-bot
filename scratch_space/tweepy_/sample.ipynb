{
 "cells": [
  {
   "cell_type": "markdown",
   "metadata": {},
   "source": [
    "# Sample use of tweepy\n"
   ]
  },
  {
   "cell_type": "code",
   "execution_count": null,
   "metadata": {},
   "outputs": [],
   "source": [
    "%load_ext autoreload\n",
    "%autoreload 2"
   ]
  },
  {
   "cell_type": "code",
   "execution_count": null,
   "metadata": {},
   "outputs": [],
   "source": [
    "from loguru import logger as lg\n",
    "from rich import print as rprint"
   ]
  },
  {
   "cell_type": "code",
   "execution_count": null,
   "metadata": {},
   "outputs": [],
   "source": [
    "import tweepy\n",
    "\n",
    "from carlo_bot.config.x_config import XConfig\n",
    "\n",
    "xc = XConfig()\n",
    "\n",
    "client = tweepy.Client(\n",
    "    consumer_key=xc.consumer_api_key,\n",
    "    consumer_secret=xc.consumer_api_key_secret,\n",
    "    access_token=xc.access_token_pyn,\n",
    "    access_token_secret=xc.access_token_secret_pyn,\n",
    ")"
   ]
  },
  {
   "cell_type": "code",
   "execution_count": null,
   "metadata": {},
   "outputs": [],
   "source": [
    "# from tweepy.client import Response\n",
    "# ht: tweepy.Response = client.get_home_timeline()\n",
    "\n",
    "# ht = client.get_home_timeline()\n",
    "# rprint(ht)\n",
    "\n",
    "# Response(\n",
    "#     data=[\n",
    "#         <Tweet id=1861189211950375313 text='RT @notebooklm: Hi all 👋 We’re here to bring you product updates, a\n",
    "# little behind-the-scenes magic, and connect with the growing NotebookLM…'>,\n",
    "#         ...,\n",
    "#         <Tweet id=1841598631691903116 text='RT @stevenbjohnson: The title really says it all.\n",
    "# 🤯\\n\\nhttps://t.co/cNEGSC7v7h'>\n",
    "#     ],\n",
    "#     includes={},\n",
    "#     errors=[],\n",
    "#     meta={\n",
    "#         'next_token': '7140dibdnow9c7btw4b1jw5mu5crslvdm968aq3mi04l2',\n",
    "#         'result_count': 100,\n",
    "#         'newest_id': '1861189211950375313',\n",
    "#         'oldest_id': '1841598631691903116'\n",
    "#     }\n",
    "# )"
   ]
  },
  {
   "cell_type": "code",
   "execution_count": null,
   "metadata": {},
   "outputs": [],
   "source": [
    "client.create_tweet(text=\"Dev access seems to work though.\")\n",
    "\n",
    "# Response(data={'id': '1861196260822204574', 'text': 'Dev access seems to work though.', 'edit_history_tweet_ids': ['1861196260822204574']}, includes={}, errors=[], meta={})"
   ]
  }
 ],
 "metadata": {
  "kernelspec": {
   "display_name": "carlo-bot-zYK9GGRU-py3.11",
   "language": "python",
   "name": "python3"
  },
  "language_info": {
   "codemirror_mode": {
    "name": "ipython",
    "version": 3
   },
   "file_extension": ".py",
   "mimetype": "text/x-python",
   "name": "python",
   "nbconvert_exporter": "python",
   "pygments_lexer": "ipython3",
   "version": "3.11.10"
  }
 },
 "nbformat": 4,
 "nbformat_minor": 2
}
